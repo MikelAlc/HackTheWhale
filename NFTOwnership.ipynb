{
 "cells": [
  {
   "cell_type": "code",
   "execution_count": null,
   "metadata": {},
   "outputs": [],
   "source": [
    "import requests\n",
    "import pandas as pd"
   ]
  },
  {
   "cell_type": "markdown",
   "metadata": {},
   "source": [
    "### Get NFT's owned by a wallet address"
   ]
  },
  {
   "cell_type": "code",
   "execution_count": null,
   "metadata": {},
   "outputs": [],
   "source": [
    "walletAddress = input(\"Enter wallet address to use\") #0xb2af1b81283C87A9F06bA2294dca29f83A7D1d00\n",
    "\n",
    "def getNFTs(walletAddress):\n",
    "    \"\"\"Gets the NFT's owned by a specific wallet address and returns a response object\"\"\"\n",
    "    \n",
    "    url = f\"https://api.verbwire.com/v1/nft/data/owned?walletAddress={walletAddress}&chain=ethereum\"\n",
    "\n",
    "    headers = {\n",
    "        \"accept\": \"application/json\",\n",
    "        \"X-API-Key\": \"sk_live_44463b61-a57b-47a0-a501-bd5ab8c2e71f\"\n",
    "    }\n",
    "\n",
    "    response = requests.get(url, headers=headers)\n",
    "    return response\n",
    "\n",
    "getNFTs(walletAddress)"
   ]
  },
  {
   "cell_type": "code",
   "execution_count": 11,
   "metadata": {},
   "outputs": [
    {
     "data": {
      "text/plain": [
       "<Response [200]>"
      ]
     },
     "execution_count": 11,
     "metadata": {},
     "output_type": "execute_result"
    }
   ],
   "source": [
    "slug = input(\"Enter a slug to use\") #boredapeyachtclub\n",
    "limit = input(\"Enter a limit\")\n",
    "offset = input(\"Enter an offset\")\n",
    "sortDirection = input(\"Enter DESC or ASC\")\n",
    "\n",
    "def getSalesEvent(slug, limit, offset, sortDirection):\n",
    "    \"\"\"Gets the sales events of a slug and returns a response object\"\"\"\n",
    "    url = f\"https://api.verbwire.com/v1/nft/data/salesEventsForSlug?slug={slug}&chain=ethereum&limit={limit}&offset={offset}&sortDirection={sortDirection}\"\n",
    "\n",
    "    headers = {\n",
    "        \"accept\": \"application/json\",\n",
    "        \"X-API-Key\": \"sk_live_44463b61-a57b-47a0-a501-bd5ab8c2e71f\"\n",
    "    }\n",
    "\n",
    "    response = requests.get(url, headers=headers)\n",
    "    return response.text\n",
    "\n",
    "getSalesEvent(slug, limit, offset, sortDirection)"
   ]
  }
 ],
 "metadata": {
  "kernelspec": {
   "display_name": "Python 3.10.8 64-bit (microsoft store)",
   "language": "python",
   "name": "python3"
  },
  "language_info": {
   "codemirror_mode": {
    "name": "ipython",
    "version": 3
   },
   "file_extension": ".py",
   "mimetype": "text/x-python",
   "name": "python",
   "nbconvert_exporter": "python",
   "pygments_lexer": "ipython3",
   "version": "3.10.8"
  },
  "orig_nbformat": 4,
  "vscode": {
   "interpreter": {
    "hash": "e98ed2cd36e95b698a575071fd4c57c3c20cdee16c5581c6646ce6f85606b6ef"
   }
  }
 },
 "nbformat": 4,
 "nbformat_minor": 2
}
