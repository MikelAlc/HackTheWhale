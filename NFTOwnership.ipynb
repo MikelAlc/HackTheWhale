{
 "cells": [
  {
   "cell_type": "code",
   "execution_count": null,
   "metadata": {},
   "outputs": [],
   "source": []
  }
 ],
 "metadata": {
  "kernelspec": {
   "display_name": "Python 3.10.8 64-bit (microsoft store)",
   "language": "python",
   "name": "python3"
  },
  "language_info": {
   "name": "python",
   "version": "3.10.8"
  },
  "orig_nbformat": 4,
  "vscode": {
   "interpreter": {
    "hash": "e98ed2cd36e95b698a575071fd4c57c3c20cdee16c5581c6646ce6f85606b6ef"
   }
  }
 },
 "nbformat": 4,
 "nbformat_minor": 2
}
