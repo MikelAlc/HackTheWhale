{
 "cells": [
  {
   "cell_type": "markdown",
   "metadata": {},
   "source": [
    "# NFT Analytics Project\n",
    "This project uses the Verbwire API to retrieve necessary data"
   ]
  },
  {
   "cell_type": "code",
   "execution_count": null,
   "metadata": {},
   "outputs": [],
   "source": [
    "import requests\n",
    "import pandas as pd\n",
    "import matplotlib.pyplot as plt\n",
    "from datetime import datetime\n",
    "\n",
    "pd.set_option('display.max_rows', 100)"
   ]
  },
  {
   "cell_type": "markdown",
   "metadata": {},
   "source": [
    "## Functions\n",
    "Below are all the functions used to extract data from the API"
   ]
  },
  {
   "cell_type": "markdown",
   "metadata": {},
   "source": [
    "### Get all of the NFTs owned by a sepcific wallet\n",
    "Function returns JSON-style dictionary from a response object"
   ]
  },
  {
   "cell_type": "code",
   "execution_count": null,
   "metadata": {},
   "outputs": [],
   "source": [
    "\n",
    "def getNFTs():    \n",
    "    walletAddress = input(\"Enter wallet address to use\") #0x8b2Abf9618cb3899B8459dE211eAdF53598245aD\n",
    "    url = f\"https://api.verbwire.com/v1/nft/data/owned?walletAddress={walletAddress}&chain=ethereum\"\n",
    "\n",
    "    headers = {\n",
    "        \"accept\": \"application/json\",\n",
    "        \"X-API-Key\": \"sk_live_44463b61-a57b-47a0-a501-bd5ab8c2e71f\"\n",
    "    }\n",
    "\n",
    "    response = requests.get(url, headers=headers)\n",
    "    return response.json()\n"
   ]
  },
  {
   "cell_type": "markdown",
   "metadata": {},
   "source": [
    "### Get sales events for a slug\n",
    "Function returns JSON-style dictionary from a response object"
   ]
  },
  {
   "cell_type": "code",
   "execution_count": null,
   "metadata": {},
   "outputs": [],
   "source": [
    "def getSalesEvent():\n",
    "    slug = input(\"Enter a slug to use\") #animetas\n",
    "    url = f\"https://api.verbwire.com/v1/nft/data/salesEventsForSlug?slug={slug}&chain=ethereum&limit=100&offset=0&sortDirection=DESC\"\n",
    "\n",
    "    headers = {\n",
    "        \"accept\": \"application/json\",\n",
    "        \"X-API-Key\": \"sk_live_44463b61-a57b-47a0-a501-bd5ab8c2e71f\"\n",
    "    }\n",
    "\n",
    "    response = requests.get(url, headers=headers)\n",
    "    return response.json()\n"
   ]
  },
  {
   "cell_type": "markdown",
   "metadata": {},
   "source": [
    "### Get ownership data for a slug\n",
    "Function returns JSON-style dictionary from a response object"
   ]
  },
  {
   "cell_type": "code",
   "execution_count": null,
   "metadata": {},
   "outputs": [],
   "source": [
    "def getOwnership():    \n",
    "    slug = input(\"Enter a slug to use\") #animetas\n",
    "    url = f\"https://api.verbwire.com/v1/nft/data/ownershipForSlug?slug={slug}&chain=ethereum&limit=100&page=1&sortDirection=DESC\"\n",
    "\n",
    "    headers = {\n",
    "        \"accept\": \"application/json\",\n",
    "        \"X-API-Key\": \"sk_live_44463b61-a57b-47a0-a501-bd5ab8c2e71f\"\n",
    "    }\n",
    "\n",
    "    response = requests.get(url, headers=headers)\n",
    "    return response.json()"
   ]
  },
  {
   "cell_type": "markdown",
   "metadata": {},
   "source": [
    "## Data Analysis"
   ]
  },
  {
   "cell_type": "markdown",
   "metadata": {},
   "source": [
    "### Plots a histogram representing the count of all the unique token names owned by a specific wallet"
   ]
  },
  {
   "cell_type": "code",
   "execution_count": null,
   "metadata": {},
   "outputs": [],
   "source": [
    "def visualizeNFTs():\n",
    "    nft = pd.DataFrame(getNFTs()[\"nfts\"])\n",
    "    print(f\"Total NFTs owned: {nft.shape[0]}\")\n",
    "    nft[\"tokenName\"].value_counts().plot(kind=\"barh\", fontsize=6, title=\"Count of NFTs Owned\", figsize=(10, 10))\n",
    "    plt.show()\n",
    "\n",
    "visualizeNFTs()"
   ]
  },
  {
   "cell_type": "markdown",
   "metadata": {},
   "source": [
    "### Plots a line graph representing the sale price of a slug over time"
   ]
  },
  {
   "cell_type": "code",
   "execution_count": null,
   "metadata": {},
   "outputs": [],
   "source": [
    "def visualizeSalePrice():\n",
    "    salesEvents = pd.DataFrame(getSalesEvent()[\"sales\"])\n",
    "    salesEvents[\"time\"] = pd.to_datetime(salesEvents[\"timestamp\"]).dt.date\n",
    "    salesEvents.plot(kind=\"line\", x=\"timestamp\", y=\"saleUSD\", title=\"Sale Price Over Time\", xlabel=\"Time\", ylabel=\"Price ($)\", figsize=(20,10))\n",
    "    plt.show()\n",
    "\n",
    "visualizeSalePrice()"
   ]
  },
  {
   "cell_type": "markdown",
   "metadata": {},
   "source": [
    "### Prints a table of the top 100 wallets of a slug and important summary statistics"
   ]
  },
  {
   "cell_type": "code",
   "execution_count": null,
   "metadata": {},
   "outputs": [],
   "source": [
    "def visualizeOwnership():\n",
    "    whales = pd.DataFrame(getOwnership()[\"ownership\"][\"results\"])\n",
    "    contractID = whales.loc[0, \"contractId\"]\n",
    "    whales = whales[[\"address\", \"tokenCount\", \"floorAskPrice\", \"onSaleCount\", \"topBidValue\", \"totalBidValue\", \"id\"]]\n",
    "    totalTokens = whales[\"tokenCount\"].sum()\n",
    "    avgTokens = int(whales[\"tokenCount\"].mean())\n",
    "\n",
    "    print(f'Total tokens owned by top 100 whales: {totalTokens}')\n",
    "    print(f'Average number of tokens owned by top 100 whales: {avgTokens}')\n",
    "    print(f'Max number of tokens owned by top 100 whales: {whales[\"tokenCount\"].max()}')\n",
    "    print(f'Min number of tokens owned by top 100 whales: {whales[\"tokenCount\"].min()}')\n",
    "    print(f'Contract ID: {contractID}')\n",
    "    return whales\n",
    "\n",
    "visualizeOwnership()\n"
   ]
  }
 ],
 "metadata": {
  "kernelspec": {
   "display_name": "Python 3.10.8 64-bit (microsoft store)",
   "language": "python",
   "name": "python3"
  },
  "language_info": {
   "codemirror_mode": {
    "name": "ipython",
    "version": 3
   },
   "file_extension": ".py",
   "mimetype": "text/x-python",
   "name": "python",
   "nbconvert_exporter": "python",
   "pygments_lexer": "ipython3",
   "version": "3.10.8"
  },
  "orig_nbformat": 4,
  "vscode": {
   "interpreter": {
    "hash": "e98ed2cd36e95b698a575071fd4c57c3c20cdee16c5581c6646ce6f85606b6ef"
   }
  }
 },
 "nbformat": 4,
 "nbformat_minor": 2
}
